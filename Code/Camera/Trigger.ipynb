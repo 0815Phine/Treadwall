{
 "cells": [
  {
   "cell_type": "code",
   "execution_count": 1,
   "id": "698b015d",
   "metadata": {},
   "outputs": [],
   "source": [
    "import pypylon.pylon as py"
   ]
  },
  {
   "cell_type": "code",
   "execution_count": 2,
   "id": "7cb19060",
   "metadata": {},
   "outputs": [],
   "source": [
    "tlf = py.TlFactory.GetInstance()\n",
    "devices = tlf.EnumerateDevices()\n",
    "cam = py.InstantCamera(tlf.CreateDevice(devices[0]))\n",
    "cam.Open()"
   ]
  },
  {
   "cell_type": "code",
   "execution_count": 3,
   "id": "ec71324e",
   "metadata": {},
   "outputs": [],
   "source": [
    "# hardware trigger\n",
    "cam.TriggerMode.Value = \"On\"  \n",
    "cam.TriggerSource.Value = \"Line1\"  \n",
    "cam.TriggerActivation.Value = \"RisingEdge\"\n",
    "cam.TriggerSelector.Value = \"FrameStart\"\n",
    "\n",
    "# stop signal\n",
    "cam.LineSelector.Value = \"Line2\"\n",
    "cam.LineMode.Value = \"Input\"\n",
    "\n",
    "# frame feedback\n",
    "cam.LineSelector.Value = \"Line3\"\n",
    "cam.LineMode.Value = \"Output\"\n",
    "cam.LineSource.Value = \"ExposureActive\""
   ]
  },
  {
   "cell_type": "code",
   "execution_count": 8,
   "id": "3241d992",
   "metadata": {},
   "outputs": [],
   "source": [
    "cam.StartGrabbing(py.GrabStrategy_OneByOne)"
   ]
  },
  {
   "cell_type": "code",
   "execution_count": 15,
   "id": "c37ee658",
   "metadata": {},
   "outputs": [
    {
     "data": {
      "text/plain": [
       "True"
      ]
     },
     "execution_count": 15,
     "metadata": {},
     "output_type": "execute_result"
    }
   ],
   "source": [
    "cam.LineSelector.Value = \"Line1\"\n",
    "cam.LineStatus.Value"
   ]
  },
  {
   "cell_type": "code",
   "execution_count": 16,
   "id": "1522eeee",
   "metadata": {},
   "outputs": [],
   "source": [
    "cam.StopGrabbing()\n",
    "cam.Close()"
   ]
  }
 ],
 "metadata": {
  "kernelspec": {
   "display_name": "pylon_cam",
   "language": "python",
   "name": "python3"
  },
  "language_info": {
   "codemirror_mode": {
    "name": "ipython",
    "version": 3
   },
   "file_extension": ".py",
   "mimetype": "text/x-python",
   "name": "python",
   "nbconvert_exporter": "python",
   "pygments_lexer": "ipython3",
   "version": "3.12.9"
  }
 },
 "nbformat": 4,
 "nbformat_minor": 5
}
