{
 "cells": [
  {
   "cell_type": "code",
   "execution_count": 1,
   "metadata": {},
   "outputs": [],
   "source": [
    "import pypylon.pylon as py\n",
    "import cv2\n",
    "import time"
   ]
  },
  {
   "cell_type": "code",
   "execution_count": 2,
   "metadata": {},
   "outputs": [
    {
     "data": {
      "text/plain": [
       "<pypylon.pylon.DeviceInfo; proxy of <Swig Object of type 'Pylon::CDeviceInfo *' at 0x0000021BFE885AA0> >"
      ]
     },
     "execution_count": 2,
     "metadata": {},
     "output_type": "execute_result"
    }
   ],
   "source": [
    "tlf = py.TlFactory.GetInstance()\n",
    "devices = tlf.EnumerateDevices()\n",
    "device = devices[0]\n",
    "device"
   ]
  },
  {
   "cell_type": "code",
   "execution_count": 3,
   "metadata": {},
   "outputs": [
    {
     "data": {
      "text/plain": [
       "'Basler daA1440-220um (40458776)'"
      ]
     },
     "execution_count": 3,
     "metadata": {},
     "output_type": "execute_result"
    }
   ],
   "source": [
    "device.GetFriendlyName()"
   ]
  },
  {
   "cell_type": "code",
   "execution_count": 54,
   "metadata": {},
   "outputs": [],
   "source": [
    "cd = tlf.CreateDevice(device)\n",
    "cam = py.InstantCamera(cd)\n",
    "cam.Open()"
   ]
  },
  {
   "cell_type": "code",
   "execution_count": 85,
   "metadata": {},
   "outputs": [],
   "source": [
    "cam.Width.Value = 1440\n",
    "cam.Height.Value = 1080\n",
    "cam.AcquisitionFrameRateEnable.Value = True\n",
    "cam.AcquisitionFrameRate.Value = 200\n",
    "cam.ExposureTime.Value = 3500\n",
    "cam.ExposureAuto.Value = \"Off\"\n",
    "cam.DeviceLinkThroughputLimitMode.Value = \"Off\""
   ]
  },
  {
   "cell_type": "code",
   "execution_count": 36,
   "metadata": {},
   "outputs": [
    {
     "data": {
      "text/plain": [
       "2000"
      ]
     },
     "execution_count": 36,
     "metadata": {},
     "output_type": "execute_result"
    }
   ],
   "source": [
    "# One by One\n",
    "\n",
    "tot_time = 10.\n",
    "fcount = 0\n",
    "cam.StartGrabbing(py.GrabStrategy_OneByOne)\n",
    "stime = time.time() #has to be after setting grab strategy!\n",
    "while cam.IsGrabbing() and time.time() - stime < tot_time:\n",
    "    res = cam.RetrieveResult(500)\n",
    "    if res.IsValid():\n",
    "        fcount += 1\n",
    "    res.Release()\n",
    "cam.StopGrabbing()\n",
    "fcount"
   ]
  },
  {
   "cell_type": "code",
   "execution_count": 21,
   "metadata": {},
   "outputs": [
    {
     "data": {
      "text/plain": [
       "2000"
      ]
     },
     "execution_count": 21,
     "metadata": {},
     "output_type": "execute_result"
    }
   ],
   "source": [
    "# Latest Image Only (for streaming)\n",
    "\n",
    "tot_time = 10.\n",
    "fcount = 0\n",
    "cam.StartGrabbing(py.GrabStrategy_LatestImageOnly)\n",
    "stime = time.time() #has to be after setting grab strategy!\n",
    "while cam.IsGrabbing() and time.time() - stime < tot_time:\n",
    "    res = cam.RetrieveResult(500)\n",
    "    if res.IsValid():\n",
    "        fcount += 1\n",
    "    res.Release()\n",
    "cam.StopGrabbing()\n",
    "fcount"
   ]
  },
  {
   "cell_type": "code",
   "execution_count": 32,
   "metadata": {},
   "outputs": [
    {
     "data": {
      "text/plain": [
       "2000"
      ]
     },
     "execution_count": 32,
     "metadata": {},
     "output_type": "execute_result"
    }
   ],
   "source": [
    "# Latest Images (with Buffer)\n",
    "\n",
    "cam.MaxNumBuffer.Value = 100\n",
    "\n",
    "tot_time = 10.\n",
    "fcount = 0\n",
    "cam.StartGrabbing(py.GrabStrategy_LatestImages)\n",
    "stime = time.time() #has to be after setting grab strategy!\n",
    "while cam.IsGrabbing() and time.time() - stime < tot_time:\n",
    "    res = cam.RetrieveResult(500)\n",
    "    if res.IsValid():\n",
    "        fcount += 1\n",
    "    res.Release()\n",
    "cam.StopGrabbing()\n",
    "fcount"
   ]
  },
  {
   "cell_type": "code",
   "execution_count": 83,
   "metadata": {},
   "outputs": [
    {
     "data": {
      "text/plain": [
       "200.0"
      ]
     },
     "execution_count": 83,
     "metadata": {},
     "output_type": "execute_result"
    }
   ],
   "source": [
    "cam.ResultingFrameRate.Value"
   ]
  },
  {
   "cell_type": "code",
   "execution_count": 88,
   "metadata": {},
   "outputs": [
    {
     "data": {
      "text/plain": [
       "1999"
      ]
     },
     "execution_count": 88,
     "metadata": {},
     "output_type": "execute_result"
    }
   ],
   "source": [
    "# One by One\n",
    "fourcc = cv2.VideoWriter_fourcc(*'H264')\n",
    "video_writer = cv2.VideoWriter('output_OO.avi', fourcc, fps=200, frameSize=(1440, 1080), isColor=False)\n",
    "\n",
    "tot_time = 10.\n",
    "fcount = 0\n",
    "cam.StartGrabbing(py.GrabStrategy_OneByOne)\n",
    "stime = time.time() #has to be after setting grab strategy!\n",
    "while cam.IsGrabbing() and time.time() - stime < tot_time:\n",
    "    res = cam.RetrieveResult(1000)\n",
    "    if res.GrabSucceeded(): #use this instead of IsValid!\n",
    "        fcount += 1\n",
    "        #image = cv2.cvtColor(res.Array, cv2.COLOR_GRAY2BGR)\n",
    "        image = res.Array\n",
    "        video_writer.write(image)\n",
    "    res.Release()\n",
    "cam.StopGrabbing()\n",
    "video_writer.release()\n",
    "fcount"
   ]
  },
  {
   "cell_type": "code",
   "execution_count": 89,
   "metadata": {},
   "outputs": [
    {
     "data": {
      "text/plain": [
       "1817"
      ]
     },
     "execution_count": 89,
     "metadata": {},
     "output_type": "execute_result"
    }
   ],
   "source": [
    "# Latest Image Only (for streaming)\n",
    "fourcc = cv2.VideoWriter_fourcc(*'XVID')\n",
    "video_writer = cv2.VideoWriter('output_LI.avi', fourcc, fps=200, frameSize=(1440, 1080), isColor=False)\n",
    "\n",
    "tot_time = 10.\n",
    "fcount = 0\n",
    "cam.StartGrabbing(py.GrabStrategy_LatestImageOnly)\n",
    "stime = time.time() #has to be after setting grab strategy!\n",
    "while cam.IsGrabbing() and time.time() - stime < tot_time:\n",
    "    res = cam.RetrieveResult(1000)\n",
    "    if res.GrabSucceeded(): #use this instead of IsValid!\n",
    "        fcount += 1\n",
    "        #image = cv2.cvtColor(res.Array, cv2.COLOR_GRAY2BGR)\n",
    "        image = res.Array\n",
    "        video_writer.write(image)\n",
    "    res.Release()\n",
    "cam.StopGrabbing()\n",
    "video_writer.release()\n",
    "fcount"
   ]
  },
  {
   "cell_type": "code",
   "execution_count": 76,
   "metadata": {},
   "outputs": [
    {
     "data": {
      "text/plain": [
       "1788"
      ]
     },
     "execution_count": 76,
     "metadata": {},
     "output_type": "execute_result"
    }
   ],
   "source": [
    "# Latest Images (with Buffer)\n",
    "fourcc = cv2.VideoWriter_fourcc(*'XVID')\n",
    "video_writer = cv2.VideoWriter('output_Buffer.avi', fourcc, fps=200, frameSize=(1440, 1080), isColor=False)\n",
    "\n",
    "cam.MaxNumBuffer.Value = 100\n",
    "\n",
    "tot_time = 10.\n",
    "fcount = 0\n",
    "cam.StartGrabbing(py.GrabStrategy_LatestImages)\n",
    "stime = time.time() #has to be after setting grab strategy!\n",
    "while cam.IsGrabbing() and time.time() - stime < tot_time:\n",
    "    res = cam.RetrieveResult(500)\n",
    "    if res.GrabSucceeded(): #IsValid seemed to work here\n",
    "        fcount += 1\n",
    "        #image = cv2.cvtColor(res.Array, cv2.COLOR_GRAY2BGR)\n",
    "        image = res.Array\n",
    "        video_writer.write(image)\n",
    "    res.Release()\n",
    "cam.StopGrabbing()\n",
    "video_writer.release()\n",
    "fcount"
   ]
  },
  {
   "cell_type": "code",
   "execution_count": 50,
   "metadata": {},
   "outputs": [],
   "source": [
    "cam.Close()"
   ]
  }
 ],
 "metadata": {
  "kernelspec": {
   "display_name": "pylon_cam",
   "language": "python",
   "name": "python3"
  },
  "language_info": {
   "codemirror_mode": {
    "name": "ipython",
    "version": 3
   },
   "file_extension": ".py",
   "mimetype": "text/x-python",
   "name": "python",
   "nbconvert_exporter": "python",
   "pygments_lexer": "ipython3",
   "version": "3.12.8"
  }
 },
 "nbformat": 4,
 "nbformat_minor": 2
}
