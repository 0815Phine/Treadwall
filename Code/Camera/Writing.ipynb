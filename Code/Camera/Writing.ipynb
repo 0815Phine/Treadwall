{
 "cells": [
  {
   "cell_type": "code",
   "execution_count": 1,
   "metadata": {},
   "outputs": [],
   "source": [
    "import pypylon.pylon as py\n",
    "#import os\n",
    "import cv2\n",
    "import time"
   ]
  },
  {
   "cell_type": "code",
   "execution_count": 2,
   "metadata": {},
   "outputs": [],
   "source": [
    "#os.environ['PYLON_CAMEMU'] = '1'"
   ]
  },
  {
   "cell_type": "markdown",
   "metadata": {},
   "source": [
    "# Session 3\n",
    "\n",
    "Steps for data acquisition pipeline \n",
    "\n",
    "1. Get camera object\n",
    "2. Open the camera\n",
    "3. Configure camera\n",
    "4. Configure trigger\n",
    "5. Set grab strategy\n",
    "6. Set up video writer\n",
    "7. Collect frames and write to a video (loop)\n",
    "8. Stop grabbing and close camera\n",
    "9.  Stop writing"
   ]
  },
  {
   "cell_type": "code",
   "execution_count": 3,
   "metadata": {},
   "outputs": [],
   "source": [
    "tlf = py.TlFactory.GetInstance()\n",
    "devices = tlf.EnumerateDevices()\n",
    "cam = py.InstantCamera(tlf.CreateDevice(devices[0]))"
   ]
  },
  {
   "cell_type": "code",
   "execution_count": null,
   "metadata": {},
   "outputs": [],
   "source": [
    "devices = tlf.EnumerateDevices()\n",
    "device = devices[0]\n",
    "device.GetFriendlyName()"
   ]
  },
  {
   "cell_type": "code",
   "execution_count": 5,
   "metadata": {},
   "outputs": [],
   "source": [
    "cam.Open()"
   ]
  },
  {
   "cell_type": "code",
   "execution_count": 6,
   "metadata": {},
   "outputs": [],
   "source": [
    "cam.Width.Value = 1440\n",
    "cam.Height.Value = 1080\n",
    "#cam.AcquisitionFrameRateEnable.Value = True\n",
    "#cam.AcquisitionFrameRate.Value = 200\n",
    "cam.ExposureTime.Value = 3000\n",
    "cam.ExposureAuto.Value = \"Off\"\n",
    "cam.DeviceLinkThroughputLimitMode.Value = \"Off\""
   ]
  },
  {
   "cell_type": "code",
   "execution_count": 7,
   "metadata": {},
   "outputs": [],
   "source": [
    "cam.TriggerMode.Value = \"On\"  \n",
    "cam.TriggerSource.Value = \"Line1\"  \n",
    "cam.TriggerActivation.Value = \"RisingEdge\"\n",
    "cam.TriggerSelector.Value = \"FrameStart\"\n",
    "\n",
    "#cam.ExposureMode.Value = \"TriggerControlled\"  "
   ]
  },
  {
   "cell_type": "code",
   "execution_count": null,
   "metadata": {},
   "outputs": [],
   "source": [
    "cam.ExposureMode.Value"
   ]
  },
  {
   "cell_type": "code",
   "execution_count": 9,
   "metadata": {},
   "outputs": [],
   "source": [
    "cam.StartGrabbing(py.GrabStrategy_OneByOne)"
   ]
  },
  {
   "cell_type": "code",
   "execution_count": 10,
   "metadata": {},
   "outputs": [],
   "source": [
    "op_name = 'output_why.avi'\n",
    "fourcc = cv2.VideoWriter_fourcc(*'XVID')\n",
    "video_writer = cv2.VideoWriter(op_name, fourcc, fps=200, frameSize=(1440, 1080), isColor=False)"
   ]
  },
  {
   "cell_type": "code",
   "execution_count": null,
   "metadata": {},
   "outputs": [],
   "source": [
    "cam.LineStatus.Value"
   ]
  },
  {
   "cell_type": "code",
   "execution_count": null,
   "metadata": {},
   "outputs": [],
   "source": [
    "tot_time = 10.\n",
    "fcount = 0\n",
    "f_failed = 0\n",
    "flag_status = False\n",
    "\n",
    "while not flag_status:\n",
    "    flag_status = cam.LineStatus.Value\n",
    "    if flag_status:\n",
    "        stime = time.time()\n",
    "        while cam.IsGrabbing():\n",
    "            res = cam.RetrieveResult(1000)\n",
    "            if res.GrabSucceeded():\n",
    "                fcount += 1\n",
    "                print(f\"Frame num: {fcount}\") #{res.TimeStamp}\n",
    "                image = res.Array\n",
    "                video_writer.write(image)\n",
    "                #video_writer.write(res.Array)\n",
    "            else:\n",
    "                f_failed += 1\n",
    "            print(cam.LineStatus.Value)\n",
    "            res.Release()\n",
    "            # time.sleep(0.1)\n",
    "        cam.StopGrabbing()\n",
    "\n",
    "        cam.Close()\n",
    "        video_writer.release()        \n",
    "        break\n",
    "\n",
    "f_failed"
   ]
  },
  {
   "cell_type": "code",
   "execution_count": null,
   "metadata": {},
   "outputs": [],
   "source": [
    "# line status is false\n",
    "# while line status is false:\n",
    "    # check line status\n",
    "    # if line status is true: run the pipeline"
   ]
  },
  {
   "cell_type": "code",
   "execution_count": null,
   "metadata": {},
   "outputs": [],
   "source": [
    "tot_time = 10.\n",
    "fcount = 0\n",
    "f_failed = 0\n",
    "\n",
    "if cam.LineStatus.Value:\n",
    "\n",
    "    stime = time.time()\n",
    "    while cam.IsGrabbing() and time.time() - stime < tot_time:\n",
    "        res = cam.RetrieveResult(1000)\n",
    "        if res.GrabSucceeded():\n",
    "            fcount += 1\n",
    "            print(f\"Frame num: {fcount}\") #{res.TimeStamp}\n",
    "            image = res.Array\n",
    "            video_writer.write(image)\n",
    "            #video_writer.write(res.Array)\n",
    "        else:\n",
    "            f_failed += 1\n",
    "        res.Release()\n",
    "        # time.sleep(0.1)\n",
    "    cam.StopGrabbing()\n",
    "\n",
    "    cam.Close()\n",
    "    video_writer.release()\n",
    "\n",
    "f_failed"
   ]
  },
  {
   "cell_type": "code",
   "execution_count": null,
   "metadata": {},
   "outputs": [],
   "source": [
    "tot_time = 10.\n",
    "fcount = 0\n",
    "f_failed = 0\n",
    "stime = time.time()\n",
    "while cam.IsGrabbing() and time.time() - stime < tot_time:\n",
    "    res = cam.RetrieveResult(1000)\n",
    "    if res.GrabSucceeded():\n",
    "        fcount += 1\n",
    "        print(f\"Frame num: {fcount}\") #{res.TimeStamp}\n",
    "        image = res.Array\n",
    "        video_writer.write(image)\n",
    "        #video_writer.write(res.Array)\n",
    "    else:\n",
    "        f_failed += 1\n",
    "    res.Release()\n",
    "    # time.sleep(0.1)\n",
    "cam.StopGrabbing()\n",
    "\n",
    "cam.Close()\n",
    "video_writer.release()\n",
    "\n",
    "f_failed"
   ]
  },
  {
   "cell_type": "code",
   "execution_count": null,
   "metadata": {},
   "outputs": [],
   "source": [
    "res.GrabSucceeded()"
   ]
  },
  {
   "cell_type": "code",
   "execution_count": null,
   "metadata": {},
   "outputs": [],
   "source": []
  }
 ],
 "metadata": {
  "kernelspec": {
   "display_name": "pylon_cam",
   "language": "python",
   "name": "python3"
  },
  "language_info": {
   "codemirror_mode": {
    "name": "ipython",
    "version": 3
   },
   "file_extension": ".py",
   "mimetype": "text/x-python",
   "name": "python",
   "nbconvert_exporter": "python",
   "pygments_lexer": "ipython3",
   "version": "3.12.9"
  }
 },
 "nbformat": 4,
 "nbformat_minor": 2
}
